{
 "cells": [
  {
   "cell_type": "code",
   "execution_count": 3,
   "metadata": {},
   "outputs": [],
   "source": [
    "from tensorflow.keras.models import Sequential\n",
    "from tensorflow.keras.layers import Dense, Dropout\n",
    "from tensorflow.keras.utils import plot_model\n",
    "\n",
    "from sklearn.model_selection import train_test_split\n",
    "from numpy import loadtxt"
   ]
  },
  {
   "cell_type": "code",
   "execution_count": 17,
   "metadata": {},
   "outputs": [],
   "source": [
    "from mlxtend.data import loadlocal_mnist"
   ]
  },
  {
   "cell_type": "code",
   "execution_count": 44,
   "metadata": {},
   "outputs": [],
   "source": [
    "# !pip install pydot"
   ]
  },
  {
   "cell_type": "code",
   "execution_count": null,
   "metadata": {},
   "outputs": [],
   "source": []
  },
  {
   "cell_type": "code",
   "execution_count": 18,
   "metadata": {},
   "outputs": [],
   "source": [
    "X, y = loadlocal_mnist(\n",
    "            images_path='dataset/train-images.idx3-ubyte', \n",
    "            labels_path='dataset/train-labels.idx1-ubyte')"
   ]
  },
  {
   "cell_type": "code",
   "execution_count": 26,
   "metadata": {},
   "outputs": [
    {
     "name": "stdout",
     "output_type": "stream",
     "text": [
      "Dimensions: 60000 x 784\n"
     ]
    }
   ],
   "source": [
    "print('Dimensions: %s x %s' % (X.shape[0], X.shape[1]))"
   ]
  },
  {
   "cell_type": "code",
   "execution_count": 29,
   "metadata": {},
   "outputs": [
    {
     "data": {
      "text/plain": [
       "60000"
      ]
     },
     "execution_count": 29,
     "metadata": {},
     "output_type": "execute_result"
    }
   ],
   "source": [
    "len(y)"
   ]
  },
  {
   "cell_type": "code",
   "execution_count": 35,
   "metadata": {},
   "outputs": [],
   "source": [
    "X_train, X_test, y_train, y_test = train_test_split(X, y, test_size=0.2, random_state=42)"
   ]
  },
  {
   "cell_type": "code",
   "execution_count": 40,
   "metadata": {},
   "outputs": [
    {
     "name": "stdout",
     "output_type": "stream",
     "text": [
      "X train Dimensions: 48000 x 784\n",
      "y train Dimensions: 48000\n",
      "\n",
      "\n",
      "X test Dimensions: 12000 x 784\n",
      "y test Dimensions: 12000\n"
     ]
    }
   ],
   "source": [
    "print('X train Dimensions: %s x %s' % (X_train.shape[0], X_train.shape[1]))\n",
    "print(f'y train Dimensions: {len(y_train)}')\n",
    "print('\\n')\n",
    "print('X test Dimensions: %s x %s' % (X_test.shape[0], X_test.shape[1]))\n",
    "print(f'y test Dimensions: {len(y_test)}')"
   ]
  },
  {
   "cell_type": "code",
   "execution_count": null,
   "metadata": {},
   "outputs": [],
   "source": []
  },
  {
   "cell_type": "code",
   "execution_count": 41,
   "metadata": {},
   "outputs": [],
   "source": [
    "model = Sequential()\n",
    "model.add(Dense(32, input_dim=784, activation='relu'))\n",
    "model.add(Dense(16, activation='relu'))          \n",
    "model.add(Dropout(0.2))          \n",
    "model.add(Dense(16, activation='relu'))\n",
    "model.add(Dropout(0.2))          \n",
    "model.add(Dense(10, activation='softmax'))"
   ]
  },
  {
   "cell_type": "code",
   "execution_count": 43,
   "metadata": {},
   "outputs": [],
   "source": [
    "# plot_model(model, show_shapes=True, show_layer_names=True)"
   ]
  },
  {
   "cell_type": "code",
   "execution_count": 55,
   "metadata": {},
   "outputs": [],
   "source": [
    "model.compile(loss=\"sparse_categorical_crossentropy\", optimizer='adam', metrics=[\"accuracy\"])"
   ]
  },
  {
   "cell_type": "code",
   "execution_count": 51,
   "metadata": {},
   "outputs": [
    {
     "data": {
      "text/plain": [
       "48000"
      ]
     },
     "execution_count": 51,
     "metadata": {},
     "output_type": "execute_result"
    }
   ],
   "source": [
    "len(y_train)"
   ]
  },
  {
   "cell_type": "code",
   "execution_count": 56,
   "metadata": {},
   "outputs": [
    {
     "name": "stdout",
     "output_type": "stream",
     "text": [
      "Model: \"sequential_5\"\n",
      "_________________________________________________________________\n",
      " Layer (type)                Output Shape              Param #   \n",
      "=================================================================\n",
      " dense_11 (Dense)            (None, 32)                25120     \n",
      "                                                                 \n",
      " dense_12 (Dense)            (None, 16)                528       \n",
      "                                                                 \n",
      " dropout_5 (Dropout)         (None, 16)                0         \n",
      "                                                                 \n",
      " dense_13 (Dense)            (None, 16)                272       \n",
      "                                                                 \n",
      " dropout_6 (Dropout)         (None, 16)                0         \n",
      "                                                                 \n",
      " dense_14 (Dense)            (None, 10)                170       \n",
      "                                                                 \n",
      "=================================================================\n",
      "Total params: 26,090\n",
      "Trainable params: 26,090\n",
      "Non-trainable params: 0\n",
      "_________________________________________________________________\n"
     ]
    }
   ],
   "source": [
    "model.summary()"
   ]
  },
  {
   "cell_type": "code",
   "execution_count": 57,
   "metadata": {
    "scrolled": true
   },
   "outputs": [
    {
     "name": "stdout",
     "output_type": "stream",
     "text": [
      "Epoch 1/100\n",
      "4800/4800 [==============================] - 12s 2ms/step - loss: 2.5635 - accuracy: 0.1227\n",
      "Epoch 2/100\n",
      "4800/4800 [==============================] - 11s 2ms/step - loss: 2.1338 - accuracy: 0.1735\n",
      "Epoch 3/100\n",
      "4800/4800 [==============================] - 9s 2ms/step - loss: 2.0404 - accuracy: 0.2099\n",
      "Epoch 4/100\n",
      "4800/4800 [==============================] - 9s 2ms/step - loss: 1.7999 - accuracy: 0.2783\n",
      "Epoch 5/100\n",
      "4800/4800 [==============================] - 9s 2ms/step - loss: 1.7030 - accuracy: 0.3171\n",
      "Epoch 6/100\n",
      "4800/4800 [==============================] - 9s 2ms/step - loss: 1.6590 - accuracy: 0.3378\n",
      "Epoch 7/100\n",
      "4800/4800 [==============================] - 9s 2ms/step - loss: 1.6286 - accuracy: 0.3535\n",
      "Epoch 8/100\n",
      "4800/4800 [==============================] - 9s 2ms/step - loss: 1.5909 - accuracy: 0.3596\n",
      "Epoch 9/100\n",
      "4800/4800 [==============================] - 9s 2ms/step - loss: 1.5713 - accuracy: 0.3758\n",
      "Epoch 10/100\n",
      "4800/4800 [==============================] - 9s 2ms/step - loss: 1.5599 - accuracy: 0.3835\n",
      "Epoch 11/100\n",
      "4800/4800 [==============================] - 9s 2ms/step - loss: 1.5446 - accuracy: 0.3945\n",
      "Epoch 12/100\n",
      "4800/4800 [==============================] - 9s 2ms/step - loss: 1.5150 - accuracy: 0.4084\n",
      "Epoch 13/100\n",
      "4800/4800 [==============================] - 9s 2ms/step - loss: 1.5058 - accuracy: 0.4145\n",
      "Epoch 14/100\n",
      "4800/4800 [==============================] - 9s 2ms/step - loss: 1.4685 - accuracy: 0.4301\n",
      "Epoch 15/100\n",
      "4800/4800 [==============================] - 9s 2ms/step - loss: 1.3485 - accuracy: 0.4561\n",
      "Epoch 16/100\n",
      "4800/4800 [==============================] - 9s 2ms/step - loss: 1.3098 - accuracy: 0.4726\n",
      "Epoch 17/100\n",
      "4800/4800 [==============================] - 9s 2ms/step - loss: 1.1570 - accuracy: 0.5432\n",
      "Epoch 18/100\n",
      "4800/4800 [==============================] - 9s 2ms/step - loss: 1.0567 - accuracy: 0.6004\n",
      "Epoch 19/100\n",
      "4800/4800 [==============================] - 9s 2ms/step - loss: 1.0200 - accuracy: 0.6244\n",
      "Epoch 20/100\n",
      "4800/4800 [==============================] - 9s 2ms/step - loss: 0.9794 - accuracy: 0.6533\n",
      "Epoch 21/100\n",
      "4800/4800 [==============================] - 9s 2ms/step - loss: 0.9374 - accuracy: 0.6700\n",
      "Epoch 22/100\n",
      "4800/4800 [==============================] - 9s 2ms/step - loss: 0.8803 - accuracy: 0.7169\n",
      "Epoch 23/100\n",
      "4800/4800 [==============================] - 9s 2ms/step - loss: 0.7913 - accuracy: 0.7635\n",
      "Epoch 24/100\n",
      "4800/4800 [==============================] - 9s 2ms/step - loss: 0.7515 - accuracy: 0.7803\n",
      "Epoch 25/100\n",
      "4800/4800 [==============================] - 9s 2ms/step - loss: 0.7093 - accuracy: 0.7967\n",
      "Epoch 26/100\n",
      "4800/4800 [==============================] - 9s 2ms/step - loss: 0.6705 - accuracy: 0.8122\n",
      "Epoch 27/100\n",
      "4800/4800 [==============================] - 9s 2ms/step - loss: 0.6346 - accuracy: 0.8211\n",
      "Epoch 28/100\n",
      "4800/4800 [==============================] - 9s 2ms/step - loss: 0.5827 - accuracy: 0.8418\n",
      "Epoch 29/100\n",
      "4800/4800 [==============================] - 9s 2ms/step - loss: 0.5593 - accuracy: 0.8493\n",
      "Epoch 30/100\n",
      "4800/4800 [==============================] - 9s 2ms/step - loss: 0.5463 - accuracy: 0.8557\n",
      "Epoch 31/100\n",
      "4800/4800 [==============================] - 9s 2ms/step - loss: 0.5247 - accuracy: 0.8598\n",
      "Epoch 32/100\n",
      "4800/4800 [==============================] - 9s 2ms/step - loss: 0.5212 - accuracy: 0.8643\n",
      "Epoch 33/100\n",
      "4800/4800 [==============================] - 9s 2ms/step - loss: 0.5002 - accuracy: 0.8717\n",
      "Epoch 34/100\n",
      "4800/4800 [==============================] - 9s 2ms/step - loss: 0.5080 - accuracy: 0.8719\n",
      "Epoch 35/100\n",
      "4800/4800 [==============================] - 9s 2ms/step - loss: 0.4948 - accuracy: 0.8740\n",
      "Epoch 36/100\n",
      "4800/4800 [==============================] - 9s 2ms/step - loss: 0.4826 - accuracy: 0.8754\n",
      "Epoch 37/100\n",
      "4800/4800 [==============================] - 9s 2ms/step - loss: 0.4828 - accuracy: 0.8770\n",
      "Epoch 38/100\n",
      "4800/4800 [==============================] - 9s 2ms/step - loss: 0.4759 - accuracy: 0.8801\n",
      "Epoch 39/100\n",
      "4800/4800 [==============================] - 9s 2ms/step - loss: 0.4754 - accuracy: 0.8788\n",
      "Epoch 40/100\n",
      "4800/4800 [==============================] - 11s 2ms/step - loss: 0.4725 - accuracy: 0.8808\n",
      "Epoch 41/100\n",
      "4800/4800 [==============================] - 17s 3ms/step - loss: 0.4578 - accuracy: 0.8838\n",
      "Epoch 42/100\n",
      "4800/4800 [==============================] - 14s 3ms/step - loss: 0.4624 - accuracy: 0.8846\n",
      "Epoch 43/100\n",
      "4800/4800 [==============================] - 12s 3ms/step - loss: 0.4416 - accuracy: 0.8878\n",
      "Epoch 44/100\n",
      "4800/4800 [==============================] - 12s 3ms/step - loss: 0.4266 - accuracy: 0.8897\n",
      "Epoch 45/100\n",
      "4800/4800 [==============================] - 13s 3ms/step - loss: 0.4121 - accuracy: 0.8964\n",
      "Epoch 46/100\n",
      "4800/4800 [==============================] - 13s 3ms/step - loss: 0.3984 - accuracy: 0.8971\n",
      "Epoch 47/100\n",
      "4800/4800 [==============================] - 13s 3ms/step - loss: 0.3992 - accuracy: 0.9021\n",
      "Epoch 48/100\n",
      "4800/4800 [==============================] - 13s 3ms/step - loss: 0.3974 - accuracy: 0.8963\n",
      "Epoch 49/100\n",
      "4800/4800 [==============================] - 12s 3ms/step - loss: 0.3851 - accuracy: 0.9004\n",
      "Epoch 50/100\n",
      "4800/4800 [==============================] - 13s 3ms/step - loss: 0.3995 - accuracy: 0.8975\n",
      "Epoch 51/100\n",
      "4800/4800 [==============================] - 13s 3ms/step - loss: 0.3698 - accuracy: 0.9041\n",
      "Epoch 52/100\n",
      "4800/4800 [==============================] - 13s 3ms/step - loss: 0.3754 - accuracy: 0.9029\n",
      "Epoch 53/100\n",
      "4800/4800 [==============================] - 13s 3ms/step - loss: 0.3670 - accuracy: 0.9064\n",
      "Epoch 54/100\n",
      "4800/4800 [==============================] - 13s 3ms/step - loss: 0.3568 - accuracy: 0.9078\n",
      "Epoch 55/100\n",
      "4800/4800 [==============================] - 13s 3ms/step - loss: 0.3557 - accuracy: 0.9102\n",
      "Epoch 56/100\n",
      "4800/4800 [==============================] - 13s 3ms/step - loss: 0.3534 - accuracy: 0.9086\n",
      "Epoch 57/100\n",
      "4800/4800 [==============================] - 13s 3ms/step - loss: 0.3408 - accuracy: 0.9142\n",
      "Epoch 58/100\n",
      "4800/4800 [==============================] - 13s 3ms/step - loss: 0.3436 - accuracy: 0.9110\n",
      "Epoch 59/100\n",
      "4800/4800 [==============================] - 14s 3ms/step - loss: 0.3283 - accuracy: 0.9144\n",
      "Epoch 60/100\n",
      "4800/4800 [==============================] - 13s 3ms/step - loss: 0.3378 - accuracy: 0.9110\n",
      "Epoch 61/100\n",
      "4800/4800 [==============================] - 13s 3ms/step - loss: 0.3393 - accuracy: 0.9151\n",
      "Epoch 62/100\n",
      "4800/4800 [==============================] - 13s 3ms/step - loss: 0.3270 - accuracy: 0.9139\n",
      "Epoch 63/100\n",
      "4800/4800 [==============================] - 15s 3ms/step - loss: 0.3184 - accuracy: 0.9177\n",
      "Epoch 64/100\n",
      "4800/4800 [==============================] - 13s 3ms/step - loss: 0.3331 - accuracy: 0.9134\n",
      "Epoch 65/100\n",
      "4800/4800 [==============================] - 13s 3ms/step - loss: 0.3391 - accuracy: 0.9038\n",
      "Epoch 66/100\n",
      "4800/4800 [==============================] - 13s 3ms/step - loss: 0.3189 - accuracy: 0.9179\n",
      "Epoch 67/100\n",
      "4800/4800 [==============================] - 13s 3ms/step - loss: 0.3168 - accuracy: 0.9211\n",
      "Epoch 68/100\n",
      "4800/4800 [==============================] - 13s 3ms/step - loss: 0.3167 - accuracy: 0.9169\n",
      "Epoch 69/100\n",
      "4800/4800 [==============================] - 13s 3ms/step - loss: 0.3038 - accuracy: 0.9207\n",
      "Epoch 70/100\n",
      "4800/4800 [==============================] - 13s 3ms/step - loss: 0.3007 - accuracy: 0.9235\n",
      "Epoch 71/100\n",
      "4800/4800 [==============================] - 13s 3ms/step - loss: 0.3062 - accuracy: 0.9206\n",
      "Epoch 72/100\n",
      "4800/4800 [==============================] - 13s 3ms/step - loss: 0.3067 - accuracy: 0.9215\n",
      "Epoch 73/100\n",
      "4800/4800 [==============================] - 13s 3ms/step - loss: 0.2999 - accuracy: 0.9243\n",
      "Epoch 74/100\n",
      "4800/4800 [==============================] - 13s 3ms/step - loss: 0.3036 - accuracy: 0.9225\n",
      "Epoch 75/100\n",
      "4800/4800 [==============================] - 13s 3ms/step - loss: 0.2990 - accuracy: 0.9243\n",
      "Epoch 76/100\n",
      "4800/4800 [==============================] - 13s 3ms/step - loss: 0.3052 - accuracy: 0.9176\n",
      "Epoch 77/100\n",
      "4800/4800 [==============================] - 13s 3ms/step - loss: 0.3114 - accuracy: 0.9118\n",
      "Epoch 78/100\n",
      "4800/4800 [==============================] - 13s 3ms/step - loss: 0.3024 - accuracy: 0.9197\n",
      "Epoch 79/100\n"
     ]
    },
    {
     "name": "stdout",
     "output_type": "stream",
     "text": [
      "4800/4800 [==============================] - 12s 2ms/step - loss: 0.3127 - accuracy: 0.9185\n",
      "Epoch 80/100\n",
      "4800/4800 [==============================] - 12s 2ms/step - loss: 0.2941 - accuracy: 0.9261\n",
      "Epoch 81/100\n",
      "4800/4800 [==============================] - 12s 2ms/step - loss: 0.2872 - accuracy: 0.9276\n",
      "Epoch 82/100\n",
      "4800/4800 [==============================] - 12s 2ms/step - loss: 0.2890 - accuracy: 0.9280\n",
      "Epoch 83/100\n",
      "4800/4800 [==============================] - 12s 2ms/step - loss: 0.2870 - accuracy: 0.9255\n",
      "Epoch 84/100\n",
      "4800/4800 [==============================] - 12s 2ms/step - loss: 0.2941 - accuracy: 0.9278\n",
      "Epoch 85/100\n",
      "4800/4800 [==============================] - 12s 2ms/step - loss: 0.2847 - accuracy: 0.9265\n",
      "Epoch 86/100\n",
      "4800/4800 [==============================] - 12s 2ms/step - loss: 0.2780 - accuracy: 0.9305\n",
      "Epoch 87/100\n",
      "4800/4800 [==============================] - 10s 2ms/step - loss: 0.2959 - accuracy: 0.9261\n",
      "Epoch 88/100\n",
      "4800/4800 [==============================] - 9s 2ms/step - loss: 0.2886 - accuracy: 0.9258\n",
      "Epoch 89/100\n",
      "4800/4800 [==============================] - 9s 2ms/step - loss: 0.2864 - accuracy: 0.9239\n",
      "Epoch 90/100\n",
      "4800/4800 [==============================] - 9s 2ms/step - loss: 0.2797 - accuracy: 0.9290\n",
      "Epoch 91/100\n",
      "4800/4800 [==============================] - 9s 2ms/step - loss: 0.2772 - accuracy: 0.9298\n",
      "Epoch 92/100\n",
      "4800/4800 [==============================] - 9s 2ms/step - loss: 0.2862 - accuracy: 0.9286\n",
      "Epoch 93/100\n",
      "4800/4800 [==============================] - 9s 2ms/step - loss: 0.2747 - accuracy: 0.9310\n",
      "Epoch 94/100\n",
      "4800/4800 [==============================] - 9s 2ms/step - loss: 0.2815 - accuracy: 0.9298\n",
      "Epoch 95/100\n",
      "4800/4800 [==============================] - 9s 2ms/step - loss: 0.2795 - accuracy: 0.9298\n",
      "Epoch 96/100\n",
      "4800/4800 [==============================] - 9s 2ms/step - loss: 0.2951 - accuracy: 0.9190\n",
      "Epoch 97/100\n",
      "4800/4800 [==============================] - 8s 2ms/step - loss: 0.2795 - accuracy: 0.9295\n",
      "Epoch 98/100\n",
      "4800/4800 [==============================] - 8s 2ms/step - loss: 0.2776 - accuracy: 0.9311\n",
      "Epoch 99/100\n",
      "4800/4800 [==============================] - 8s 2ms/step - loss: 0.2875 - accuracy: 0.9249\n",
      "Epoch 100/100\n",
      "4800/4800 [==============================] - 8s 2ms/step - loss: 0.2857 - accuracy: 0.9212\n"
     ]
    },
    {
     "data": {
      "text/plain": [
       "<keras.callbacks.History at 0x27c8ac57460>"
      ]
     },
     "execution_count": 57,
     "metadata": {},
     "output_type": "execute_result"
    }
   ],
   "source": [
    "model.fit(X_train, y_train, epochs=100, batch_size=10)"
   ]
  },
  {
   "cell_type": "code",
   "execution_count": 60,
   "metadata": {},
   "outputs": [
    {
     "name": "stdout",
     "output_type": "stream",
     "text": [
      "375/375 [==============================] - 1s 2ms/step - loss: 0.5878 - accuracy: 0.9374\n",
      "Model Loss: 58.78, Accuracy: 93.74\n"
     ]
    }
   ],
   "source": [
    "loss, accuracy = model.evaluate(X_test, y_test)\n",
    "\n",
    "print('Model Loss: %.2f, Accuracy: %.2f'% ((loss*100), (accuracy*100)))"
   ]
  },
  {
   "cell_type": "code",
   "execution_count": null,
   "metadata": {},
   "outputs": [],
   "source": []
  },
  {
   "cell_type": "code",
   "execution_count": 61,
   "metadata": {},
   "outputs": [
    {
     "data": {
      "text/plain": [
       "array([  0,   0,   0,   0,   0,   0,   0,   0,   0,   0,   0,   0,   0,\n",
       "         0,   0,   0,   0,   0,   0,   0,   0,   0,   0,   0,   0,   0,\n",
       "         0,   0,   0,   0,   0,   0,   0,   0,   0,   0,   0,   0,   0,\n",
       "         0,   0,   0,   0,   0,   0,   0,   0,   0,   0,   0,   0,   0,\n",
       "         0,   0,   0,   0,   0,   0,   0,   0,   0,   0,   0,   0,   0,\n",
       "         0,   0,   0,   0,   0,   0,   0,   0,   0,   0,   0,   0,   0,\n",
       "         0,   0,   0,   0,   0,   0,   0,   0,   0,   0,   0,   0,   0,\n",
       "         0,   0,   0,   0,   0,   0,   0,   0,   0,   0,   0,   0,   0,\n",
       "         0,   0,   0,   0,   0,   0,   0,   0,   0,   0,   0,   0,   0,\n",
       "         0,   0,   0,   0,   0,   0,   0,   0,   0,   0,   0,   0,   0,\n",
       "         0,   0,   0,   0,   0,   0,   0,   0,   0,   0,   0,   0,   0,\n",
       "         0,   0,   0,   0,   0,   0,   0,   0,  38,  43, 105, 255, 253,\n",
       "       253, 253, 253, 253, 174,   6,   0,   0,   0,   0,   0,   0,   0,\n",
       "         0,   0,   0,   0,   0,   0,   0,   0,  43, 139, 224, 226, 252,\n",
       "       253, 252, 252, 252, 252, 252, 252, 158,  14,   0,   0,   0,   0,\n",
       "         0,   0,   0,   0,   0,   0,   0,   0,   0,   0, 178, 252, 252,\n",
       "       252, 252, 253, 252, 252, 252, 252, 252, 252, 252,  59,   0,   0,\n",
       "         0,   0,   0,   0,   0,   0,   0,   0,   0,   0,   0,   0, 109,\n",
       "       252, 252, 230, 132, 133, 132, 132, 189, 252, 252, 252, 252,  59,\n",
       "         0,   0,   0,   0,   0,   0,   0,   0,   0,   0,   0,   0,   0,\n",
       "         0,   4,  29,  29,  24,   0,   0,   0,   0,  14, 226, 252, 252,\n",
       "       172,   7,   0,   0,   0,   0,   0,   0,   0,   0,   0,   0,   0,\n",
       "         0,   0,   0,   0,   0,   0,   0,   0,   0,   0,   0,  85, 243,\n",
       "       252, 252, 144,   0,   0,   0,   0,   0,   0,   0,   0,   0,   0,\n",
       "         0,   0,   0,   0,   0,   0,   0,   0,   0,   0,   0,   0,  88,\n",
       "       189, 252, 252, 252,  14,   0,   0,   0,   0,   0,   0,   0,   0,\n",
       "         0,   0,   0,   0,   0,   0,   0,   0,   0,   0,   0,   0,  91,\n",
       "       212, 247, 252, 252, 252, 204,   9,   0,   0,   0,   0,   0,   0,\n",
       "         0,   0,   0,   0,   0,   0,   0,   0,   0,  32, 125, 193, 193,\n",
       "       193, 253, 252, 252, 252, 238, 102,  28,   0,   0,   0,   0,   0,\n",
       "         0,   0,   0,   0,   0,   0,   0,   0,   0,   0,  45, 222, 252,\n",
       "       252, 252, 252, 253, 252, 252, 252, 177,   0,   0,   0,   0,   0,\n",
       "         0,   0,   0,   0,   0,   0,   0,   0,   0,   0,   0,   0,  45,\n",
       "       223, 253, 253, 253, 253, 255, 253, 253, 253, 253,  74,   0,   0,\n",
       "         0,   0,   0,   0,   0,   0,   0,   0,   0,   0,   0,   0,   0,\n",
       "         0,   0,  31, 123,  52,  44,  44,  44,  44, 143, 252, 252,  74,\n",
       "         0,   0,   0,   0,   0,   0,   0,   0,   0,   0,   0,   0,   0,\n",
       "         0,   0,   0,   0,   0,   0,   0,   0,   0,   0,   0,  15, 252,\n",
       "       252,  74,   0,   0,   0,   0,   0,   0,   0,   0,   0,   0,   0,\n",
       "         0,   0,   0,   0,   0,   0,   0,   0,   0,   0,   0,   0,   0,\n",
       "        86, 252, 252,  74,   0,   0,   0,   0,   0,   0,   0,   0,   0,\n",
       "         0,   0,   0,   0,   0,   5,  75,   9,   0,   0,   0,   0,   0,\n",
       "         0,  98, 242, 252, 252,  74,   0,   0,   0,   0,   0,   0,   0,\n",
       "         0,   0,   0,   0,   0,   0,  61, 183, 252,  29,   0,   0,   0,\n",
       "         0,  18,  92, 239, 252, 252, 243,  65,   0,   0,   0,   0,   0,\n",
       "         0,   0,   0,   0,   0,   0,   0,   0, 208, 252, 252, 147, 134,\n",
       "       134, 134, 134, 203, 253, 252, 252, 188,  83,   0,   0,   0,   0,\n",
       "         0,   0,   0,   0,   0,   0,   0,   0,   0,   0, 208, 252, 252,\n",
       "       252, 252, 252, 252, 252, 252, 253, 230, 153,   8,   0,   0,   0,\n",
       "         0,   0,   0,   0,   0,   0,   0,   0,   0,   0,   0,   0,  49,\n",
       "       157, 252, 252, 252, 252, 252, 217, 207, 146,  45,   0,   0,   0,\n",
       "         0,   0,   0,   0,   0,   0,   0,   0,   0,   0,   0,   0,   0,\n",
       "         0,   0,   7, 103, 235, 252, 172, 103,  24,   0,   0,   0,   0,\n",
       "         0,   0,   0,   0,   0,   0,   0,   0,   0,   0,   0,   0,   0,\n",
       "         0,   0,   0,   0,   0,   0,   0,   0,   0,   0,   0,   0,   0,\n",
       "         0,   0,   0,   0,   0,   0,   0,   0,   0,   0,   0,   0,   0,\n",
       "         0,   0,   0,   0,   0,   0,   0,   0,   0,   0,   0,   0,   0,\n",
       "         0,   0,   0,   0,   0,   0,   0,   0,   0,   0,   0,   0,   0,\n",
       "         0,   0,   0,   0,   0,   0,   0,   0,   0,   0,   0,   0,   0,\n",
       "         0,   0,   0,   0,   0,   0,   0,   0,   0,   0,   0,   0,   0,\n",
       "         0,   0,   0,   0], dtype=uint8)"
      ]
     },
     "execution_count": 61,
     "metadata": {},
     "output_type": "execute_result"
    }
   ],
   "source": [
    "X[7]"
   ]
  },
  {
   "cell_type": "code",
   "execution_count": 63,
   "metadata": {},
   "outputs": [],
   "source": [
    "import matplotlib.pyplot as plt"
   ]
  },
  {
   "cell_type": "code",
   "execution_count": 66,
   "metadata": {},
   "outputs": [
    {
     "data": {
      "text/plain": [
       "<matplotlib.image.AxesImage at 0x27c99610cd0>"
      ]
     },
     "execution_count": 66,
     "metadata": {},
     "output_type": "execute_result"
    },
    {
     "data": {
      "image/png": "[encoded data removed]",
      "text/plain": [
       "<Figure size 432x288 with 1 Axes>"
      ]
     },
     "metadata": {
      "needs_background": "light"
     },
     "output_type": "display_data"
    }
   ],
   "source": [
    "plt.imshow(X[7].reshape((28,28)))"
   ]
  },
  {
   "cell_type": "code",
   "execution_count": 70,
   "metadata": {},
   "outputs": [
    {
     "data": {
      "text/plain": [
       "array([0.0000000e+00, 0.0000000e+00, 7.8174606e-27, 9.9999988e-01,\n",
       "       0.0000000e+00, 1.3033359e-07, 0.0000000e+00, 1.0597714e-20,\n",
       "       0.0000000e+00, 0.0000000e+00], dtype=float32)"
      ]
     },
     "execution_count": 70,
     "metadata": {},
     "output_type": "execute_result"
    }
   ],
   "source": [
    "model.predict(X)[7]"
   ]
  },
  {
   "cell_type": "code",
   "execution_count": null,
   "metadata": {},
   "outputs": [],
   "source": []
  }
 ],
 "metadata": {
  "kernelspec": {
   "display_name": "Python 3",
   "language": "python",
   "name": "python3"
  },
  "language_info": {
   "codemirror_mode": {
    "name": "ipython",
    "version": 3
   },
   "file_extension": ".py",
   "mimetype": "text/x-python",
   "name": "python",
   "nbconvert_exporter": "python",
   "pygments_lexer": "ipython3",
   "version": "3.8.5"
  }
 },
 "nbformat": 4,
 "nbformat_minor": 4
}
