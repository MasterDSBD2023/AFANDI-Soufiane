{
 "cells": [
  {
   "cell_type": "code",
   "execution_count": null,
   "metadata": {},
   "outputs": [],
   "source": []
  },
  {
   "cell_type": "markdown",
   "metadata": {},
   "source": [
    "l'objectif de ce TP est d'effectuer une étude comparative sur l'impact des différents optimiseurs de deep learning."
   ]
  },
  {
   "cell_type": "code",
   "execution_count": 1,
   "metadata": {},
   "outputs": [
    {
     "name": "stderr",
     "output_type": "stream",
     "text": [
      "C:\\Users\\Afandi Soufiane\\anaconda3\\lib\\site-packages\\requests\\__init__.py:89: RequestsDependencyWarning: urllib3 (1.26.12) or chardet (3.0.4) doesn't match a supported version!\n",
      "  warnings.warn(\"urllib3 ({}) or chardet ({}) doesn't match a supported \"\n"
     ]
    }
   ],
   "source": [
    "import keras\n",
    "from keras.datasets import mnist\n",
    "from keras.models import Sequential\n",
    "from keras.layers import Dense, Dropout, Flatten\n",
    "from keras.layers import Conv2D, MaxPooling2D\n",
    "from keras import backend as K"
   ]
  },
  {
   "cell_type": "code",
   "execution_count": 2,
   "metadata": {},
   "outputs": [],
   "source": [
    "import numpy as np"
   ]
  },
  {
   "cell_type": "code",
   "execution_count": 3,
   "metadata": {},
   "outputs": [],
   "source": [
    "import matplotlib.pyplot as plt"
   ]
  },
  {
   "cell_type": "code",
   "execution_count": 4,
   "metadata": {},
   "outputs": [],
   "source": [
    "from tensorflow.keras.utils import to_categorical"
   ]
  },
  {
   "cell_type": "code",
   "execution_count": 64,
   "metadata": {},
   "outputs": [],
   "source": [
    "import seaborn as sns\n",
    "plt.style.use('seaborn-dark')"
   ]
  },
  {
   "cell_type": "code",
   "execution_count": 5,
   "metadata": {},
   "outputs": [],
   "source": [
    "(x_train, y_train), (x_test, y_test) = mnist.load_data()"
   ]
  },
  {
   "cell_type": "code",
   "execution_count": 6,
   "metadata": {},
   "outputs": [
    {
     "data": {
      "text/plain": [
       "(28, 28)"
      ]
     },
     "execution_count": 6,
     "metadata": {},
     "output_type": "execute_result"
    }
   ],
   "source": [
    "x_train[0].shape"
   ]
  },
  {
   "cell_type": "code",
   "execution_count": 7,
   "metadata": {},
   "outputs": [
    {
     "data": {
      "text/plain": [
       "<matplotlib.image.AxesImage at 0x1e9bc21b220>"
      ]
     },
     "execution_count": 7,
     "metadata": {},
     "output_type": "execute_result"
    },
    {
     "data": {
      "image/png": "[encoded data removed]",
      "text/plain": [
       "<Figure size 432x288 with 1 Axes>"
      ]
     },
     "metadata": {
      "needs_background": "light"
     },
     "output_type": "display_data"
    }
   ],
   "source": [
    "plt.imshow(x_train[0])"
   ]
  },
  {
   "cell_type": "code",
   "execution_count": 8,
   "metadata": {},
   "outputs": [
    {
     "data": {
      "text/plain": [
       "5"
      ]
     },
     "execution_count": 8,
     "metadata": {},
     "output_type": "execute_result"
    }
   ],
   "source": [
    "y_train[0]"
   ]
  },
  {
   "cell_type": "code",
   "execution_count": 9,
   "metadata": {},
   "outputs": [
    {
     "name": "stdout",
     "output_type": "stream",
     "text": [
      "(60000, 28, 28) (60000,)\n"
     ]
    }
   ],
   "source": [
    "print(x_train.shape, y_train.shape)"
   ]
  },
  {
   "cell_type": "code",
   "execution_count": 10,
   "metadata": {},
   "outputs": [
    {
     "name": "stdout",
     "output_type": "stream",
     "text": [
      "(10000, 28, 28) (10000,)\n"
     ]
    }
   ],
   "source": [
    "print(x_test.shape, y_test.shape)"
   ]
  },
  {
   "cell_type": "code",
   "execution_count": 11,
   "metadata": {},
   "outputs": [],
   "source": [
    "x_train = x_train.reshape(x_train.shape[0],28,28,1)\n",
    "x_test  = x_test.reshape(x_test.shape[0],28,28,1)\n",
    "input_shape = (28,28,1)"
   ]
  },
  {
   "cell_type": "code",
   "execution_count": 12,
   "metadata": {},
   "outputs": [
    {
     "data": {
      "text/plain": [
       "array([5, 0, 4, ..., 5, 6, 8], dtype=uint8)"
      ]
     },
     "execution_count": 12,
     "metadata": {},
     "output_type": "execute_result"
    }
   ],
   "source": [
    "y_train"
   ]
  },
  {
   "cell_type": "code",
   "execution_count": 13,
   "metadata": {},
   "outputs": [
    {
     "data": {
      "text/plain": [
       "array([0, 1, 2, 3, 4, 5, 6, 7, 8, 9], dtype=uint8)"
      ]
     },
     "execution_count": 13,
     "metadata": {},
     "output_type": "execute_result"
    }
   ],
   "source": [
    "np.unique(y_train)"
   ]
  },
  {
   "cell_type": "code",
   "execution_count": 14,
   "metadata": {},
   "outputs": [
    {
     "name": "stdout",
     "output_type": "stream",
     "text": [
      "10\n"
     ]
    }
   ],
   "source": [
    "total_classes = len(np.unique(y_train))\n",
    "print(total_classes)"
   ]
  },
  {
   "cell_type": "code",
   "execution_count": 15,
   "metadata": {},
   "outputs": [],
   "source": [
    "y_train = to_categorical(y_train, total_classes)\n",
    "y_test = to_categorical(y_test, total_classes)"
   ]
  },
  {
   "cell_type": "code",
   "execution_count": 16,
   "metadata": {},
   "outputs": [],
   "source": [
    "x_train  = x_train.astype('float32')\n",
    "x_test   = x_test.astype('float32')\n",
    "\n",
    "x_train /= 255\n",
    "x_test  /= 255"
   ]
  },
  {
   "cell_type": "code",
   "execution_count": 17,
   "metadata": {},
   "outputs": [
    {
     "data": {
      "text/plain": [
       "784"
      ]
     },
     "execution_count": 17,
     "metadata": {},
     "output_type": "execute_result"
    }
   ],
   "source": [
    "28*28"
   ]
  },
  {
   "cell_type": "code",
   "execution_count": 28,
   "metadata": {},
   "outputs": [],
   "source": [
    "model = Sequential()\n",
    "model.add(Dense(32, input_dim=784, activation='relu'))\n",
    "model.add(Dense(16, activation='relu'))          \n",
    "model.add(Dropout(0.2))          \n",
    "model.add(Dense(16, activation='relu'))\n",
    "model.add(Dropout(0.2))          \n",
    "model.add(Dense(10, activation='softmax'))"
   ]
  },
  {
   "cell_type": "markdown",
   "metadata": {},
   "source": [
    "# 1 - essayons l'optimiseur Stochastic Gradient Descent (SGD)"
   ]
  },
  {
   "cell_type": "code",
   "execution_count": 29,
   "metadata": {},
   "outputs": [],
   "source": [
    "from tensorflow.keras.optimizers import SGD"
   ]
  },
  {
   "cell_type": "code",
   "execution_count": 30,
   "metadata": {},
   "outputs": [],
   "source": [
    "def gradient_descent(gradient, start, learn_rate, n_iter=50, tolerance=1e-06):\n",
    "    vector = start\n",
    "    for _ in range(n_iter):\n",
    "        diff = -learn_rate * gradient(vector)\n",
    "        if np.all(np.abs(diff) <= tolerance):\n",
    "            break\n",
    "        vector += diff\n",
    "    return vector"
   ]
  },
  {
   "cell_type": "code",
   "execution_count": 31,
   "metadata": {},
   "outputs": [],
   "source": [
    "epochs = 50\n",
    "learning_rate = 0.1\n",
    "decay_rate = learning_rate / epochs\n",
    "momentum = 0.8"
   ]
  },
  {
   "cell_type": "code",
   "execution_count": 32,
   "metadata": {},
   "outputs": [],
   "source": [
    "sgd = SGD(learning_rate=learning_rate, momentum=momentum, decay=decay_rate, nesterov=False)"
   ]
  },
  {
   "cell_type": "code",
   "execution_count": 43,
   "metadata": {},
   "outputs": [],
   "source": [
    "# model.compile(loss=\"sparse_categorical_crossentropy\", optimizer=sgd, metrics=[\"accuracy\"])\n",
    "model.compile(loss=\"categorical_crossentropy\", optimizer=sgd, metrics=[\"accuracy\"])Adamax"
   ]
  },
  {
   "cell_type": "code",
   "execution_count": 44,
   "metadata": {},
   "outputs": [
    {
     "name": "stdout",
     "output_type": "stream",
     "text": [
      "Model: \"sequential_7\"\n",
      "_________________________________________________________________\n",
      " Layer (type)                Output Shape              Param #   \n",
      "=================================================================\n",
      " dense_15 (Dense)            (None, 32)                25120     \n",
      "                                                                 \n",
      " dense_16 (Dense)            (None, 16)                528       \n",
      "                                                                 \n",
      " dropout_12 (Dropout)        (None, 16)                0         \n",
      "                                                                 \n",
      " dense_17 (Dense)            (None, 16)                272       \n",
      "                                                                 \n",
      " dropout_13 (Dropout)        (None, 16)                0         \n",
      "                                                                 \n",
      " dense_18 (Dense)            (None, 10)                170       \n",
      "                                                                 \n",
      "=================================================================\n",
      "Total params: 26,090\n",
      "Trainable params: 26,090\n",
      "Non-trainable params: 0\n",
      "_________________________________________________________________\n"
     ]
    }
   ],
   "source": [
    "model.summary()"
   ]
  },
  {
   "cell_type": "code",
   "execution_count": 45,
   "metadata": {},
   "outputs": [
    {
     "data": {
      "text/plain": [
       "(60000, 28, 28, 1)"
      ]
     },
     "execution_count": 45,
     "metadata": {},
     "output_type": "execute_result"
    }
   ],
   "source": [
    "x_train.shape"
   ]
  },
  {
   "cell_type": "code",
   "execution_count": 46,
   "metadata": {},
   "outputs": [],
   "source": [
    "xx_train = x_train\n",
    "xx_train = xx_train.reshape((x_train.shape[0], x_train.shape[1]*x_train.shape[2]))"
   ]
  },
  {
   "cell_type": "code",
   "execution_count": 47,
   "metadata": {},
   "outputs": [
    {
     "data": {
      "text/plain": [
       "(60000, 784)"
      ]
     },
     "execution_count": 47,
     "metadata": {},
     "output_type": "execute_result"
    }
   ],
   "source": [
    "xx_train.shape"
   ]
  },
  {
   "cell_type": "code",
   "execution_count": 48,
   "metadata": {},
   "outputs": [
    {
     "data": {
      "text/plain": [
       "(60000, 10)"
      ]
     },
     "execution_count": 48,
     "metadata": {},
     "output_type": "execute_result"
    }
   ],
   "source": [
    "y_train.shape"
   ]
  },
  {
   "cell_type": "code",
   "execution_count": 52,
   "metadata": {},
   "outputs": [
    {
     "name": "stdout",
     "output_type": "stream",
     "text": [
      "Epoch 1/7\n",
      "6000/6000 [==============================] - 12s 2ms/step - loss: 0.3617 - accuracy: 0.8987\n",
      "Epoch 2/7\n",
      "6000/6000 [==============================] - 12s 2ms/step - loss: 0.3556 - accuracy: 0.8991\n",
      "Epoch 3/7\n",
      "6000/6000 [==============================] - 13s 2ms/step - loss: 0.3492 - accuracy: 0.9025\n",
      "Epoch 4/7\n",
      "6000/6000 [==============================] - 12s 2ms/step - loss: 0.3460 - accuracy: 0.9038\n",
      "Epoch 5/7\n",
      "6000/6000 [==============================] - 10s 2ms/step - loss: 0.3368 - accuracy: 0.9065\n",
      "Epoch 6/7\n",
      "6000/6000 [==============================] - 12s 2ms/step - loss: 0.3350 - accuracy: 0.9082\n",
      "Epoch 7/7\n",
      "6000/6000 [==============================] - 12s 2ms/step - loss: 0.3320 - accuracy: 0.9076\n"
     ]
    }
   ],
   "source": [
    "history = model.fit(xx_train, y_train, epochs=7, batch_size=10)"
   ]
  },
  {
   "cell_type": "code",
   "execution_count": 60,
   "metadata": {},
   "outputs": [],
   "source": [
    "xx_test = x_test\n",
    "xx_test = xx_test.reshape((xx_test.shape[0], xx_test.shape[1]*xx_test.shape[2]))"
   ]
  },
  {
   "cell_type": "code",
   "execution_count": 62,
   "metadata": {},
   "outputs": [
    {
     "name": "stdout",
     "output_type": "stream",
     "text": [
      "313/313 [==============================] - 1s 2ms/step - loss: 0.2260 - accuracy: 0.9398\n",
      "Model Loss: 22.60, Accuracy: 93.98\n"
     ]
    }
   ],
   "source": [
    "loss, accuracy = model.evaluate(xx_test, y_test)\n",
    "\n",
    "print('Model Loss: %.2f, Accuracy: %.2f'% ((loss*100), (accuracy*100)))"
   ]
  },
  {
   "cell_type": "code",
   "execution_count": 66,
   "metadata": {},
   "outputs": [
    {
     "data": {
      "text/plain": [
       "[0.3616519868373871,\n",
       " 0.3555563688278198,\n",
       " 0.34920114278793335,\n",
       " 0.3459922969341278,\n",
       " 0.33679988980293274,\n",
       " 0.33497288823127747,\n",
       " 0.33198457956314087]"
      ]
     },
     "execution_count": 66,
     "metadata": {},
     "output_type": "execute_result"
    }
   ],
   "source": [
    "history.history.get('loss')"
   ]
  },
  {
   "cell_type": "code",
   "execution_count": 69,
   "metadata": {},
   "outputs": [
    {
     "data": {
      "text/plain": [
       "array([0, 1, 2, 3, 4, 5, 6])"
      ]
     },
     "execution_count": 69,
     "metadata": {},
     "output_type": "execute_result"
    }
   ],
   "source": [
    "np.arange(7)"
   ]
  },
  {
   "cell_type": "code",
   "execution_count": 72,
   "metadata": {},
   "outputs": [
    {
     "data": {
      "text/plain": [
       "<AxesSubplot:>"
      ]
     },
     "execution_count": 72,
     "metadata": {},
     "output_type": "execute_result"
    },
    {
     "data": {
      "image/png": "[encoded data removed]",
      "text/plain": [
       "<Figure size 432x288 with 1 Axes>"
      ]
     },
     "metadata": {},
     "output_type": "display_data"
    }
   ],
   "source": [
    "sns.lineplot(x=np.arange(7), y=history.history.get('loss'))"
   ]
  },
  {
   "cell_type": "code",
   "execution_count": 74,
   "metadata": {},
   "outputs": [
    {
     "data": {
      "image/png": "[encoded data removed]",
      "text/plain": [
       "<Figure size 720x720 with 4 Axes>"
      ]
     },
     "metadata": {},
     "output_type": "display_data"
    }
   ],
   "source": [
    "fig, ax = plt.subplots(2, 2, figsize=(10, 10))\n",
    "sns.lineplot(x=np.arange(7), y=history.history.get('loss'), ax=ax[0, 0])\n",
    "sns.lineplot(x=np.arange(7), y=history.history.get('accuracy'), ax=ax[0, 1])\n",
    "sns.lineplot(x=np.arange(7), y=history.history.get('val_loss'), ax=ax[1, 0])\n",
    "sns.lineplot(x=np.arange(7), y=history.history.get('val_accuracy'), ax=ax[1, 1])\n",
    "ax[0, 0].set_title('Training Loss vs Epochs')\n",
    "ax[0, 1].set_title('Training Accuracy vs Epochs')\n",
    "ax[1, 0].set_title('Validation Loss vs Epochs')\n",
    "ax[1, 1].set_title('Validation Accuracy vs Epochs')\n",
    "fig.suptitle('Basic CNN model', size=16)\n",
    "plt.show()"
   ]
  },
  {
   "cell_type": "markdown",
   "metadata": {},
   "source": [
    "# 2 - essayons l'optimiseur SGDMomentum"
   ]
  },
  {
   "cell_type": "code",
   "execution_count": 78,
   "metadata": {},
   "outputs": [],
   "source": [
    "def momentum(a, _, moms, __):\n",
    "    previous_momentum = moms[-1]\n",
    "    \n",
    "    mom = a.grad * 0.1 + previous_momentum * 0.9\n",
    "    moms.append(mom)\n",
    "    a.data -= mom\n",
    "    a.grad = None\n",
    "# my_model.train(momentum)"
   ]
  },
  {
   "cell_type": "code",
   "execution_count": null,
   "metadata": {},
   "outputs": [],
   "source": []
  },
  {
   "cell_type": "markdown",
   "metadata": {},
   "source": [
    "# 3 - essayons l'optimiseur AdaGrad"
   ]
  },
  {
   "cell_type": "code",
   "execution_count": 83,
   "metadata": {},
   "outputs": [
    {
     "ename": "ValueError",
     "evalue": "Could not interpret optimizer identifier: <class 'keras.optimizer_v2.adagrad.Adagrad'>",
     "output_type": "error",
     "traceback": [
      "\u001b[1;31m---------------------------------------------------------------------------\u001b[0m",
      "\u001b[1;31mValueError\u001b[0m                                Traceback (most recent call last)",
      "\u001b[1;32m<ipython-input-83-facd4981a3d2>\u001b[0m in \u001b[0;36m<module>\u001b[1;34m\u001b[0m\n\u001b[0;32m      1\u001b[0m \u001b[1;32mfrom\u001b[0m \u001b[0mtensorflow\u001b[0m\u001b[1;33m.\u001b[0m\u001b[0mkeras\u001b[0m\u001b[1;33m.\u001b[0m\u001b[0moptimizers\u001b[0m \u001b[1;32mimport\u001b[0m \u001b[0mAdagrad\u001b[0m\u001b[1;33m\u001b[0m\u001b[1;33m\u001b[0m\u001b[0m\n\u001b[1;32m----> 2\u001b[1;33m \u001b[0mmodel\u001b[0m\u001b[1;33m.\u001b[0m\u001b[0mcompile\u001b[0m\u001b[1;33m(\u001b[0m\u001b[0mloss\u001b[0m\u001b[1;33m=\u001b[0m\u001b[1;34m\"categorical_crossentropy\"\u001b[0m\u001b[1;33m,\u001b[0m \u001b[0moptimizer\u001b[0m\u001b[1;33m=\u001b[0m\u001b[0mAdagrad\u001b[0m\u001b[1;33m,\u001b[0m \u001b[0mmetrics\u001b[0m\u001b[1;33m=\u001b[0m\u001b[1;33m[\u001b[0m\u001b[1;34m\"accuracy\"\u001b[0m\u001b[1;33m]\u001b[0m\u001b[1;33m)\u001b[0m\u001b[1;33m\u001b[0m\u001b[1;33m\u001b[0m\u001b[0m\n\u001b[0m\u001b[0;32m      3\u001b[0m \u001b[0mhistory\u001b[0m \u001b[1;33m=\u001b[0m \u001b[0mmodel\u001b[0m\u001b[1;33m.\u001b[0m\u001b[0mfit\u001b[0m\u001b[1;33m(\u001b[0m\u001b[0mxx_train\u001b[0m\u001b[1;33m,\u001b[0m \u001b[0my_train\u001b[0m\u001b[1;33m,\u001b[0m \u001b[0mepochs\u001b[0m\u001b[1;33m=\u001b[0m\u001b[1;36m7\u001b[0m\u001b[1;33m,\u001b[0m \u001b[0mbatch_size\u001b[0m\u001b[1;33m=\u001b[0m\u001b[1;36m10\u001b[0m\u001b[1;33m)\u001b[0m\u001b[1;33m\u001b[0m\u001b[1;33m\u001b[0m\u001b[0m\n",
      "\u001b[1;32m~\\AppData\\Roaming\\Python\\Python38\\site-packages\\keras\\utils\\traceback_utils.py\u001b[0m in \u001b[0;36merror_handler\u001b[1;34m(*args, **kwargs)\u001b[0m\n\u001b[0;32m     65\u001b[0m     \u001b[1;32mexcept\u001b[0m \u001b[0mException\u001b[0m \u001b[1;32mas\u001b[0m \u001b[0me\u001b[0m\u001b[1;33m:\u001b[0m  \u001b[1;31m# pylint: disable=broad-except\u001b[0m\u001b[1;33m\u001b[0m\u001b[1;33m\u001b[0m\u001b[0m\n\u001b[0;32m     66\u001b[0m       \u001b[0mfiltered_tb\u001b[0m \u001b[1;33m=\u001b[0m \u001b[0m_process_traceback_frames\u001b[0m\u001b[1;33m(\u001b[0m\u001b[0me\u001b[0m\u001b[1;33m.\u001b[0m\u001b[0m__traceback__\u001b[0m\u001b[1;33m)\u001b[0m\u001b[1;33m\u001b[0m\u001b[1;33m\u001b[0m\u001b[0m\n\u001b[1;32m---> 67\u001b[1;33m       \u001b[1;32mraise\u001b[0m \u001b[0me\u001b[0m\u001b[1;33m.\u001b[0m\u001b[0mwith_traceback\u001b[0m\u001b[1;33m(\u001b[0m\u001b[0mfiltered_tb\u001b[0m\u001b[1;33m)\u001b[0m \u001b[1;32mfrom\u001b[0m \u001b[1;32mNone\u001b[0m\u001b[1;33m\u001b[0m\u001b[1;33m\u001b[0m\u001b[0m\n\u001b[0m\u001b[0;32m     68\u001b[0m     \u001b[1;32mfinally\u001b[0m\u001b[1;33m:\u001b[0m\u001b[1;33m\u001b[0m\u001b[1;33m\u001b[0m\u001b[0m\n\u001b[0;32m     69\u001b[0m       \u001b[1;32mdel\u001b[0m \u001b[0mfiltered_tb\u001b[0m\u001b[1;33m\u001b[0m\u001b[1;33m\u001b[0m\u001b[0m\n",
      "\u001b[1;32m~\\AppData\\Roaming\\Python\\Python38\\site-packages\\keras\\optimizers.py\u001b[0m in \u001b[0;36mget\u001b[1;34m(identifier)\u001b[0m\n\u001b[0;32m    142\u001b[0m     \u001b[1;32mreturn\u001b[0m \u001b[0mdeserialize\u001b[0m\u001b[1;33m(\u001b[0m\u001b[0mconfig\u001b[0m\u001b[1;33m)\u001b[0m\u001b[1;33m\u001b[0m\u001b[1;33m\u001b[0m\u001b[0m\n\u001b[0;32m    143\u001b[0m   \u001b[1;32melse\u001b[0m\u001b[1;33m:\u001b[0m\u001b[1;33m\u001b[0m\u001b[1;33m\u001b[0m\u001b[0m\n\u001b[1;32m--> 144\u001b[1;33m     raise ValueError(\n\u001b[0m\u001b[0;32m    145\u001b[0m         'Could not interpret optimizer identifier: {}'.format(identifier))\n",
      "\u001b[1;31mValueError\u001b[0m: Could not interpret optimizer identifier: <class 'keras.optimizer_v2.adagrad.Adagrad'>"
     ]
    }
   ],
   "source": [
    "from tensorflow.keras.optimizers import Adagrad\n",
    "model.compile(loss=\"categorical_crossentropy\", optimizer=Adagrad, metrics=[\"accuracy\"])\n",
    "history = model.fit(xx_train, y_train, epochs=7, batch_size=10)"
   ]
  },
  {
   "cell_type": "markdown",
   "metadata": {},
   "source": [
    "# 4 - essayons l'optimiseur RMSprop"
   ]
  },
  {
   "cell_type": "code",
   "execution_count": 53,
   "metadata": {},
   "outputs": [],
   "source": [
    "def RMSprop(a, lr, _, RMSs):\n",
    "    previous_RMS = RMSs[-1]\n",
    "    \n",
    "    RMS = (a.grad ** 2 * 0.1 + previous_RMS * 0.9)\n",
    "    RMSs.append(RMS)\n",
    "    # Gamma is added to make sure there is never divide with zero\n",
    "    gamma = 1E-5\n",
    "    a.data -= (a.grad * lr) / (torch.sqrt(RMS) + gamma)\n",
    "    a.grad = None"
   ]
  },
  {
   "cell_type": "code",
   "execution_count": null,
   "metadata": {},
   "outputs": [],
   "source": []
  },
  {
   "cell_type": "code",
   "execution_count": null,
   "metadata": {},
   "outputs": [],
   "source": []
  },
  {
   "cell_type": "code",
   "execution_count": null,
   "metadata": {},
   "outputs": [],
   "source": []
  },
  {
   "cell_type": "code",
   "execution_count": null,
   "metadata": {},
   "outputs": [],
   "source": []
  },
  {
   "cell_type": "markdown",
   "metadata": {},
   "source": [
    "# 5 - essayons l'optimiseur Adam"
   ]
  },
  {
   "cell_type": "code",
   "execution_count": 54,
   "metadata": {},
   "outputs": [],
   "source": [
    "def Adam(a, lr, moms, RMSs):\n",
    "    previous_momentum = moms[-1]\n",
    "    mom = a.grad * 0.1 + previous_momentum * 0.9\n",
    "    moms.append(mom)\n",
    "    \n",
    "    previous_RMS = RMSs[-1]\n",
    "    RMS = a.grad ** 2 * 0.1 + previous_RMS * 0.9\n",
    "    RMSs.append(RMS)\n",
    "    \n",
    "    gamma = 1E-5\n",
    "    a.data -= (mom * lr) / (torch.sqrt(RMS) + gamma)\n",
    "    a.grad = None"
   ]
  },
  {
   "cell_type": "code",
   "execution_count": null,
   "metadata": {},
   "outputs": [],
   "source": []
  },
  {
   "cell_type": "markdown",
   "metadata": {},
   "source": [
    "# Résumé :"
   ]
  },
  {
   "cell_type": "code",
   "execution_count": 23,
   "metadata": {},
   "outputs": [],
   "source": [
    "batch_size  = 64\n",
    "num_classes = 10\n",
    "epochs      = 10\n",
    "\n",
    "def build_model(optimizer):\n",
    "\n",
    "    model=Sequential()\n",
    "    model.add(Conv2D(32,kernel_size=(3,3),activation='relu',input_shape=input_shape))\n",
    "    model.add(MaxPooling2D(pool_size=(2,2)))\n",
    "    model.add(Dropout(0.25))\n",
    "    model.add(Flatten())\n",
    "    model.add(Dense(256, activation='relu'))\n",
    "    model.add(Dropout(0.5))\n",
    "    model.add(Dense(num_classes, activation='softmax'))\n",
    "    model.compile(loss=keras.losses.categorical_crossentropy, optimizer= optimizer, metrics=['accuracy'])\n",
    "\n",
    "    return model"
   ]
  },
  {
   "cell_type": "code",
   "execution_count": 24,
   "metadata": {},
   "outputs": [
    {
     "data": {
      "text/plain": [
       "(10000, 10)"
      ]
     },
     "execution_count": 24,
     "metadata": {},
     "output_type": "execute_result"
    }
   ],
   "source": [
    "y_test.shape"
   ]
  },
  {
   "cell_type": "code",
   "execution_count": 25,
   "metadata": {},
   "outputs": [
    {
     "data": {
      "text/plain": [
       "(60000, 10)"
      ]
     },
     "execution_count": 25,
     "metadata": {},
     "output_type": "execute_result"
    }
   ],
   "source": [
    "y_train.shape"
   ]
  },
  {
   "cell_type": "code",
   "execution_count": 26,
   "metadata": {},
   "outputs": [
    {
     "name": "stdout",
     "output_type": "stream",
     "text": [
      "Epoch 1/10\n",
      "938/938 [==============================] - 70s 72ms/step - loss: 2.2413 - accuracy: 0.1731 - val_loss: 2.1156 - val_accuracy: 0.5245\n",
      "Epoch 2/10\n",
      "938/938 [==============================] - 60s 64ms/step - loss: 2.0613 - accuracy: 0.3839 - val_loss: 1.9170 - val_accuracy: 0.6957\n",
      "Epoch 3/10\n",
      "938/938 [==============================] - 58s 62ms/step - loss: 1.8780 - accuracy: 0.5235 - val_loss: 1.7124 - val_accuracy: 0.7557\n",
      "Epoch 4/10\n",
      "938/938 [==============================] - 58s 62ms/step - loss: 1.6920 - accuracy: 0.6047 - val_loss: 1.5139 - val_accuracy: 0.7840\n",
      "Epoch 5/10\n",
      "938/938 [==============================] - 58s 61ms/step - loss: 1.5177 - accuracy: 0.6503 - val_loss: 1.3333 - val_accuracy: 0.8017\n",
      "Epoch 6/10\n",
      "938/938 [==============================] - 59s 63ms/step - loss: 1.3648 - accuracy: 0.6820 - val_loss: 1.1739 - val_accuracy: 0.8163\n",
      "Epoch 7/10\n",
      "938/938 [==============================] - 58s 62ms/step - loss: 1.2302 - accuracy: 0.7064 - val_loss: 1.0396 - val_accuracy: 0.8254\n",
      "Epoch 8/10\n",
      "938/938 [==============================] - 58s 62ms/step - loss: 1.1182 - accuracy: 0.7235 - val_loss: 0.9300 - val_accuracy: 0.8337\n",
      "Epoch 9/10\n",
      "938/938 [==============================] - 58s 61ms/step - loss: 1.0274 - accuracy: 0.7390 - val_loss: 0.8410 - val_accuracy: 0.8406\n",
      "Epoch 10/10\n",
      "938/938 [==============================] - 59s 63ms/step - loss: 0.9476 - accuracy: 0.7541 - val_loss: 0.7686 - val_accuracy: 0.8474\n",
      "Epoch 1/10\n",
      "938/938 [==============================] - 58s 61ms/step - loss: 1.6587 - accuracy: 0.5298 - val_loss: 0.8385 - val_accuracy: 0.8318\n",
      "Epoch 2/10\n",
      "938/938 [==============================] - 59s 62ms/step - loss: 0.7789 - accuracy: 0.7806 - val_loss: 0.4937 - val_accuracy: 0.8794\n",
      "Epoch 3/10\n",
      "938/938 [==============================] - 59s 63ms/step - loss: 0.5857 - accuracy: 0.8281 - val_loss: 0.4006 - val_accuracy: 0.8947\n",
      "Epoch 4/10\n",
      "938/938 [==============================] - 57s 61ms/step - loss: 0.5077 - accuracy: 0.8493 - val_loss: 0.3561 - val_accuracy: 0.9043\n",
      "Epoch 5/10\n",
      "938/938 [==============================] - 60s 64ms/step - loss: 0.4660 - accuracy: 0.8616 - val_loss: 0.3295 - val_accuracy: 0.9108\n",
      "Epoch 6/10\n",
      "938/938 [==============================] - 55s 59ms/step - loss: 0.4363 - accuracy: 0.8700 - val_loss: 0.3101 - val_accuracy: 0.9135\n",
      "Epoch 7/10\n",
      "938/938 [==============================] - 60s 64ms/step - loss: 0.4123 - accuracy: 0.8752 - val_loss: 0.2932 - val_accuracy: 0.9177\n",
      "Epoch 8/10\n",
      "938/938 [==============================] - 57s 61ms/step - loss: 0.3908 - accuracy: 0.8837 - val_loss: 0.2796 - val_accuracy: 0.9201\n",
      "Epoch 9/10\n",
      "938/938 [==============================] - 57s 61ms/step - loss: 0.3783 - accuracy: 0.8862 - val_loss: 0.2684 - val_accuracy: 0.9224\n",
      "Epoch 10/10\n",
      "938/938 [==============================] - 57s 61ms/step - loss: 0.3618 - accuracy: 0.8928 - val_loss: 0.2584 - val_accuracy: 0.9254\n",
      "Epoch 1/10\n",
      "938/938 [==============================] - 66s 69ms/step - loss: 0.2397 - accuracy: 0.9276 - val_loss: 0.0685 - val_accuracy: 0.9786\n",
      "Epoch 2/10\n",
      "938/938 [==============================] - 96s 103ms/step - loss: 0.0964 - accuracy: 0.9708 - val_loss: 0.0485 - val_accuracy: 0.9843\n",
      "Epoch 3/10\n",
      "938/938 [==============================] - 78s 83ms/step - loss: 0.0713 - accuracy: 0.9782 - val_loss: 0.0421 - val_accuracy: 0.9853\n",
      "Epoch 4/10\n",
      "938/938 [==============================] - 65s 69ms/step - loss: 0.0567 - accuracy: 0.9824 - val_loss: 0.0393 - val_accuracy: 0.9861\n",
      "Epoch 5/10\n",
      "938/938 [==============================] - 59s 63ms/step - loss: 0.0490 - accuracy: 0.9845 - val_loss: 0.0348 - val_accuracy: 0.9875\n",
      "Epoch 6/10\n",
      "938/938 [==============================] - 57s 61ms/step - loss: 0.0418 - accuracy: 0.9866 - val_loss: 0.0370 - val_accuracy: 0.9880\n",
      "Epoch 7/10\n",
      "938/938 [==============================] - 57s 60ms/step - loss: 0.0357 - accuracy: 0.9887 - val_loss: 0.0322 - val_accuracy: 0.9892\n",
      "Epoch 8/10\n",
      "938/938 [==============================] - 58s 62ms/step - loss: 0.0339 - accuracy: 0.9893 - val_loss: 0.0376 - val_accuracy: 0.9884\n",
      "Epoch 9/10\n",
      "938/938 [==============================] - 65s 69ms/step - loss: 0.0297 - accuracy: 0.9904 - val_loss: 0.0326 - val_accuracy: 0.9902\n",
      "Epoch 10/10\n",
      "938/938 [==============================] - 64s 68ms/step - loss: 0.0287 - accuracy: 0.9903 - val_loss: 0.0364 - val_accuracy: 0.9887\n",
      "Epoch 1/10\n",
      "938/938 [==============================] - 69s 73ms/step - loss: 0.2348 - accuracy: 0.9276 - val_loss: 0.0792 - val_accuracy: 0.9765\n",
      "Epoch 2/10\n",
      "938/938 [==============================] - 67s 71ms/step - loss: 0.0924 - accuracy: 0.9722 - val_loss: 0.0523 - val_accuracy: 0.9819\n",
      "Epoch 3/10\n",
      "938/938 [==============================] - 68s 72ms/step - loss: 0.0730 - accuracy: 0.9780 - val_loss: 0.0528 - val_accuracy: 0.9821\n",
      "Epoch 4/10\n",
      "938/938 [==============================] - 70s 74ms/step - loss: 0.0634 - accuracy: 0.9811 - val_loss: 0.0452 - val_accuracy: 0.9856\n",
      "Epoch 5/10\n",
      "938/938 [==============================] - 69s 74ms/step - loss: 0.0582 - accuracy: 0.9831 - val_loss: 0.0623 - val_accuracy: 0.9796\n",
      "Epoch 6/10\n",
      "938/938 [==============================] - 69s 73ms/step - loss: 0.0550 - accuracy: 0.9838 - val_loss: 0.0449 - val_accuracy: 0.9865\n",
      "Epoch 7/10\n",
      "938/938 [==============================] - 74s 79ms/step - loss: 0.0547 - accuracy: 0.9840 - val_loss: 0.0429 - val_accuracy: 0.9870\n",
      "Epoch 8/10\n",
      "938/938 [==============================] - 69s 73ms/step - loss: 0.0536 - accuracy: 0.9835 - val_loss: 0.0466 - val_accuracy: 0.9858\n",
      "Epoch 9/10\n",
      "938/938 [==============================] - 62s 67ms/step - loss: 0.0508 - accuracy: 0.9855 - val_loss: 0.0429 - val_accuracy: 0.9869\n",
      "Epoch 10/10\n",
      "938/938 [==============================] - 60s 64ms/step - loss: 0.0530 - accuracy: 0.9844 - val_loss: 0.0452 - val_accuracy: 0.9862\n",
      "Epoch 1/10\n",
      "938/938 [==============================] - 52s 54ms/step - loss: 0.8454 - accuracy: 0.7412 - val_loss: 0.3103 - val_accuracy: 0.9138\n",
      "Epoch 2/10\n",
      "938/938 [==============================] - 52s 56ms/step - loss: 0.3849 - accuracy: 0.8840 - val_loss: 0.2290 - val_accuracy: 0.9338\n",
      "Epoch 3/10\n",
      "938/938 [==============================] - 45s 48ms/step - loss: 0.3105 - accuracy: 0.9052 - val_loss: 0.1897 - val_accuracy: 0.9472\n",
      "Epoch 4/10\n",
      "938/938 [==============================] - 45s 48ms/step - loss: 0.2724 - accuracy: 0.9184 - val_loss: 0.1624 - val_accuracy: 0.9539\n",
      "Epoch 5/10\n",
      "938/938 [==============================] - 43s 46ms/step - loss: 0.2476 - accuracy: 0.9259 - val_loss: 0.1472 - val_accuracy: 0.9571\n",
      "Epoch 6/10\n",
      "938/938 [==============================] - 43s 46ms/step - loss: 0.2258 - accuracy: 0.9304 - val_loss: 0.1352 - val_accuracy: 0.9615\n",
      "Epoch 7/10\n",
      "938/938 [==============================] - 47s 50ms/step - loss: 0.2116 - accuracy: 0.9364 - val_loss: 0.1259 - val_accuracy: 0.9637\n",
      "Epoch 8/10\n",
      "938/938 [==============================] - 46s 49ms/step - loss: 0.2002 - accuracy: 0.9394 - val_loss: 0.1160 - val_accuracy: 0.9668\n",
      "Epoch 9/10\n",
      "938/938 [==============================] - 41s 44ms/step - loss: 0.1874 - accuracy: 0.9436 - val_loss: 0.1092 - val_accuracy: 0.9669\n",
      "Epoch 10/10\n",
      "938/938 [==============================] - 41s 44ms/step - loss: 0.1796 - accuracy: 0.9458 - val_loss: 0.1043 - val_accuracy: 0.9685\n"
     ]
    }
   ],
   "source": [
    "optimizers = ['Adadelta', 'Adagrad', 'Adam', 'RMSprop', 'SGD']\n",
    "\n",
    "for i in optimizers:\n",
    "    model = build_model(i)\n",
    "    hist = model.fit(x_train, y_train, batch_size=batch_size, epochs=epochs, verbose=1, validation_data=(x_test,y_test))"
   ]
  },
  {
   "cell_type": "code",
   "execution_count": null,
   "metadata": {},
   "outputs": [],
   "source": []
  }
 ],
 "metadata": {
  "kernelspec": {
   "display_name": "Python 3",
   "language": "python",
   "name": "python3"
  },
  "language_info": {
   "codemirror_mode": {
    "name": "ipython",
    "version": 3
   },
   "file_extension": ".py",
   "mimetype": "text/x-python",
   "name": "python",
   "nbconvert_exporter": "python",
   "pygments_lexer": "ipython3",
   "version": "3.8.5"
  }
 },
 "nbformat": 4,
 "nbformat_minor": 4
}
